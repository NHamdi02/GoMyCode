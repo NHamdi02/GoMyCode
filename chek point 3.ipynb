{
 "cells": [
  {
   "cell_type": "code",
   "execution_count": 4,
   "id": "7951b3c5",
   "metadata": {},
   "outputs": [
    {
     "name": "stdout",
     "output_type": "stream",
     "text": [
      "35\n"
     ]
    }
   ],
   "source": [
    "def max_of_two( x, y ):\n",
    "    if x > y:\n",
    "        return x\n",
    "    return y\n",
    "def max_of_three( x, y, z ):\n",
    "    return max_of_two( x, max_of_two( y, z ) )\n",
    "print(max_of_three(20, 35, 19))\n",
    "    "
   ]
  },
  {
   "cell_type": "code",
   "execution_count": 10,
   "id": "7e2af26b",
   "metadata": {},
   "outputs": [
    {
     "name": "stdout",
     "output_type": "stream",
     "text": [
      "(50, 30)\n"
     ]
    }
   ],
   "source": [
    "def addition_subtraction(x,y):\n",
    "    return (x+y ,x-y)\n",
    "print (addition_subtraction(40,10))\n"
   ]
  },
  {
   "cell_type": "code",
   "execution_count": null,
   "id": "f07a565e",
   "metadata": {},
   "outputs": [],
   "source": [
    "#function that multiplies the elements of an integer list.\n",
    "def multipies(mylist):\n",
    "    mul = 1\n",
    "    for x in mylist:\n",
    "        mul = mul * x\n",
    "    return mul \n",
    "print(multipies ([1,2,3]) )\n",
    "\n",
    "\n",
    "#function that sums the elements of a list of integers.\n",
    "def sums(mylist):\n",
    "    sum = 0\n",
    "    for y in mylist :\n",
    "        sum = sum + y  \n",
    "    return sum\n",
    "print( sums ((1,2,3) ))\n",
    "\n",
    "#functions to sum the elements whose position is an even number (0,2,4…) and multiply the rest.\n",
    "mylist= int(input( 'donner la liste'))\n",
    "for i in range (mylist):\n",
    "    if i % 2 == 0 :\n",
    "        list1.append(i)\n",
    "    else :\n",
    "        list2.append(i)\n",
    "print( sums ((list1) ))\n",
    "print(multipies (list2)) \n",
    "       \n",
    "        \n",
    "       \n",
    "        \n",
    "        \n",
    "\n",
    "\n",
    "        \n",
    "     \n",
    "              \n",
    "        \n",
    "   \n",
    "\n",
    "        "
   ]
  },
  {
   "cell_type": "code",
   "execution_count": null,
   "id": "06ce1dd2",
   "metadata": {},
   "outputs": [],
   "source": [
    "items=[n for n in input().split('-')]\n",
    "items.sort()\n",
    "print('-'.join(items))"
   ]
  },
  {
   "cell_type": "code",
   "execution_count": 43,
   "id": "8c7966ed",
   "metadata": {},
   "outputs": [
    {
     "name": "stdout",
     "output_type": "stream",
     "text": [
      "Provide D: 100,150,180\n",
      "[18, 22, 24]\n"
     ]
    }
   ],
   "source": [
    "\n",
    "import math\n",
    "\n",
    "numbers = input(\"Provide D: \")\n",
    "numbers = numbers.split(',')\n",
    "\n",
    "result_list = []\n",
    "for D in numbers:\n",
    "    Q = round(math.sqrt(2 * 50 * int(D) / 30))\n",
    "    result_list.append(Q)\n",
    "print(result_list)   \n"
   ]
  },
  {
   "cell_type": "code",
   "execution_count": null,
   "id": "f5bd1f83",
   "metadata": {},
   "outputs": [],
   "source": []
  }
 ],
 "metadata": {
  "kernelspec": {
   "display_name": "Python 3",
   "language": "python",
   "name": "python3"
  }
 },
 "nbformat": 4,
 "nbformat_minor": 5
}
