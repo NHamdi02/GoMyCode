{
 "cells": [
  {
   "cell_type": "code",
   "execution_count": 1,
   "id": "bb57c51a",
   "metadata": {},
   "outputs": [
    {
     "name": "stdout",
     "output_type": "stream",
     "text": [
      "[1, 2, 3]\n"
     ]
    }
   ],
   "source": [
    "import numpy as np\n",
    "tab=np.array([1,2,3])\n",
    "list = tab.tolist()\n",
    "print (list )"
   ]
  },
  {
   "cell_type": "code",
   "execution_count": 5,
   "id": "52385bf5",
   "metadata": {},
   "outputs": [
    {
     "name": "stdout",
     "output_type": "stream",
     "text": [
      "[[0 1 2]\n",
      " [3 4 5]]\n",
      "4\n"
     ]
    }
   ],
   "source": [
    "import numpy as np\n",
    "tableau=np.arange(6).reshape(2,3)\n",
    "diag = np.trace(tableau)\n",
    "print(tableau)\n",
    "print (diag)\n"
   ]
  },
  {
   "cell_type": "code",
   "execution_count": 13,
   "id": "06513369",
   "metadata": {},
   "outputs": [
    {
     "name": "stdout",
     "output_type": "stream",
     "text": [
      "Original array: \n",
      "[[ 0 10 20]\n",
      " [20 30 40]]\n",
      "Values bigger than 10 = [20 20 30 40]\n",
      "Their indices are  (array([0, 1, 1, 1], dtype=int64), array([2, 0, 1, 2], dtype=int64))\n"
     ]
    }
   ],
   "source": [
    "import numpy as np\n",
    "x = np.array([[0, 10, 20], [20, 30, 40]])\n",
    "print(\"Original array: \")\n",
    "print(x)\n",
    "print(\"Values bigger than 10 =\", x[x>10])\n",
    "print(\"Their indices are \", np.nonzero(x > 10))\n",
    "\n",
    "\n",
    "\n"
   ]
  },
  {
   "cell_type": "code",
   "execution_count": 11,
   "id": "116c25da",
   "metadata": {},
   "outputs": [
    {
     "name": "stdout",
     "output_type": "stream",
     "text": [
      "[[0 1 2 3]\n",
      " [4 5 6 7]]\n",
      "[[0 1 2 3]\n",
      " [4 5 6 7]]\n",
      "[[ 0  2  4  6]\n",
      " [ 8 10 12 14]]\n"
     ]
    }
   ],
   "source": [
    "import numpy as np\n",
    "A=np.arange(8).reshape(2,4)\n",
    "B=np.arange(8).reshape(2,4)\n",
    "C=A+B\n",
    "print(A)\n",
    "print(B)\n",
    "print(C)"
   ]
  },
  {
   "cell_type": "code",
   "execution_count": 12,
   "id": "d89f0551",
   "metadata": {},
   "outputs": [
    {
     "name": "stdout",
     "output_type": "stream",
     "text": [
      "Original matrix:\n",
      "\n",
      "[[0.65764441 0.00867368 0.51320378 0.95593513 0.40013968 0.82413591\n",
      "  0.97498788 0.96690685 0.0875258  0.24774874]\n",
      " [0.28272074 0.96179173 0.60138853 0.09577231 0.39083528 0.83831853\n",
      "  0.33994467 0.76485468 0.88871198 0.65626999]\n",
      " [0.47450098 0.70605538 0.22360058 0.34687679 0.39928598 0.60150218\n",
      "  0.04667416 0.30176499 0.64989982 0.150735  ]\n",
      " [0.85633211 0.37480678 0.82627498 0.71785257 0.41759059 0.56101359\n",
      "  0.38851995 0.21589845 0.729889   0.93225155]\n",
      " [0.86132025 0.32660938 0.52398303 0.27886286 0.97331359 0.90722138\n",
      "  0.41580799 0.53513613 0.9242028  0.96386625]]\n",
      "\n",
      "Subtract the mean of each row of the said matrix:\n",
      "\n",
      "[[ 0.09395422 -0.5550165  -0.05048641  0.39224494 -0.1635505   0.26044573\n",
      "   0.41129769  0.40321666 -0.47616439 -0.31594145]\n",
      " [-0.2993401   0.37973088  0.01932768 -0.48628853 -0.19122556  0.25625769\n",
      "  -0.24211618  0.18279384  0.30665113  0.07420915]\n",
      " [ 0.08441139  0.31596579 -0.16648901 -0.04321279  0.00919639  0.21141259\n",
      "  -0.34341542 -0.0883246   0.25981023 -0.23935459]\n",
      " [ 0.25428915 -0.22723618  0.22423202  0.11580961 -0.18445236 -0.04102937\n",
      "  -0.21352301 -0.38614451  0.12784604  0.33020859]\n",
      " [ 0.19028788 -0.34442298 -0.14704933 -0.3921695   0.30228123  0.23618901\n",
      "  -0.25522438 -0.13589623  0.25317043  0.29283388]]\n"
     ]
    }
   ],
   "source": [
    "import numpy as np\n",
    "print(\"Original matrix:\\n\")\n",
    "X = np.random.rand(5, 10)\n",
    "print(X)\n",
    "print(\"\\nSubtract the mean of each row of the said matrix:\\n\")\n",
    "Y = X - X.mean(axis=1, keepdims=True)\n",
    "print(Y)\n"
   ]
  },
  {
   "cell_type": "code",
   "execution_count": null,
   "id": "df1665ba",
   "metadata": {},
   "outputs": [],
   "source": []
  }
 ],
 "metadata": {
  "kernelspec": {
   "display_name": "Python 3",
   "language": "python",
   "name": "python3"
  },
  "language_info": {
   "codemirror_mode": {
    "name": "ipython",
    "version": 3
   },
   "file_extension": ".py",
   "mimetype": "text/x-python",
   "name": "python",
   "nbconvert_exporter": "python",
   "pygments_lexer": "ipython3",
   "version": "3.8.8"
  }
 },
 "nbformat": 4,
 "nbformat_minor": 5
}
